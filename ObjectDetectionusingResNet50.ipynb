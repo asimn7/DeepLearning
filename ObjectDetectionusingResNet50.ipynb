{
  "nbformat": 4,
  "nbformat_minor": 0,
  "metadata": {
    "colab": {
      "provenance": [],
      "authorship_tag": "ABX9TyNv2skHyYOZ0dgpQ7EBnrMP",
      "include_colab_link": true
    },
    "kernelspec": {
      "name": "python3",
      "display_name": "Python 3"
    },
    "language_info": {
      "name": "python"
    }
  },
  "cells": [
    {
      "cell_type": "markdown",
      "metadata": {
        "id": "view-in-github",
        "colab_type": "text"
      },
      "source": [
        "<a href=\"https://colab.research.google.com/github/asimn7/DeepLearning/blob/main/ObjectDetectionusingResNet50.ipynb\" target=\"_parent\"><img src=\"https://colab.research.google.com/assets/colab-badge.svg\" alt=\"Open In Colab\"/></a>"
      ]
    },
    {
      "cell_type": "code",
      "execution_count": 1,
      "metadata": {
        "id": "w7KBtdvsY2nO"
      },
      "outputs": [],
      "source": [
        "from tensorflow.keras.applications import ResNet50"
      ]
    },
    {
      "cell_type": "code",
      "source": [
        "# Load pre-trained ResNet50\n",
        "base_model = ResNet50(input_shape=(224, 224, 3), include_top=False, weights='imagenet')"
      ],
      "metadata": {
        "colab": {
          "base_uri": "https://localhost:8080/"
        },
        "id": "zXJmFuIJb6Mu",
        "outputId": "5ef43786-8b0b-481f-a5d4-4f04632b2898"
      },
      "execution_count": 2,
      "outputs": [
        {
          "output_type": "stream",
          "name": "stdout",
          "text": [
            "Downloading data from https://storage.googleapis.com/tensorflow/keras-applications/resnet/resnet50_weights_tf_dim_ordering_tf_kernels_notop.h5\n",
            "\u001b[1m94765736/94765736\u001b[0m \u001b[32m━━━━━━━━━━━━━━━━━━━━\u001b[0m\u001b[37m\u001b[0m \u001b[1m1s\u001b[0m 0us/step\n"
          ]
        }
      ]
    },
    {
      "cell_type": "code",
      "source": [
        "# Add detection head\n",
        "from tensorflow.keras import layers # import layers module\n",
        "\n",
        "x = base_model.output\n",
        "x = layers.GlobalAveragePooling2D()(x)\n",
        "x = layers.Dense(1024, activation='relu')(x)"
      ],
      "metadata": {
        "id": "piP3C_gFb-op"
      },
      "execution_count": 4,
      "outputs": []
    },
    {
      "cell_type": "code",
      "source": [
        "# Set the number of classes for your classification task\n",
        "num_classes = 10 # Example: Assuming you have 10 classes\n",
        "\n",
        "bounding_box_output = layers.Dense(4, name='bounding_box')(x)\n",
        "class_output = layers.Dense(num_classes, activation='softmax', name='class_label')(x)"
      ],
      "metadata": {
        "id": "pNKmKrCicM0a"
      },
      "execution_count": 6,
      "outputs": []
    },
    {
      "cell_type": "code",
      "source": [
        "# You need to refer to the models object correctly\n",
        "from tensorflow.keras import models # import models module\n",
        "\n",
        "model = models.Model(inputs=base_model.input, outputs=[bounding_box_output, class_output])"
      ],
      "metadata": {
        "id": "oTSiYmfEcmTO"
      },
      "execution_count": 8,
      "outputs": []
    },
    {
      "cell_type": "code",
      "source": [
        "# Compile and Train\n",
        "model.compile(optimizer='adam', loss={'bounding_box': 'mse', 'class_label': 'categorical_crossentropy'})"
      ],
      "metadata": {
        "id": "t5A9U5UDcz4g"
      },
      "execution_count": 9,
      "outputs": []
    }
  ]
}