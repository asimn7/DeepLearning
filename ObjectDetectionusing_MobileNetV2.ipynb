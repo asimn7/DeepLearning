{
  "nbformat": 4,
  "nbformat_minor": 0,
  "metadata": {
    "colab": {
      "provenance": [],
      "toc_visible": true,
      "authorship_tag": "ABX9TyP7ISjoQ8KbkaaOlzCZxHS2",
      "include_colab_link": true
    },
    "kernelspec": {
      "name": "python3",
      "display_name": "Python 3"
    },
    "language_info": {
      "name": "python"
    }
  },
  "cells": [
    {
      "cell_type": "markdown",
      "metadata": {
        "id": "view-in-github",
        "colab_type": "text"
      },
      "source": [
        "<a href=\"https://colab.research.google.com/github/asimn7/DeepLearning/blob/main/ObjectDetectionusing_MobileNetV2.ipynb\" target=\"_parent\"><img src=\"https://colab.research.google.com/assets/colab-badge.svg\" alt=\"Open In Colab\"/></a>"
      ]
    },
    {
      "cell_type": "code",
      "execution_count": 1,
      "metadata": {
        "id": "1BPrDSFvwB0z"
      },
      "outputs": [],
      "source": [
        "from tensorflow.keras.applications import MobileNetV2\n",
        "from tensorflow.keras import layers, models"
      ]
    },
    {
      "cell_type": "code",
      "source": [
        "# Load pre-trained MobileNetV2\n",
        "base_model = MobileNetV2(input_shape=(224, 224, 3), include_top=False, weights='imagenet')"
      ],
      "metadata": {
        "colab": {
          "base_uri": "https://localhost:8080/"
        },
        "id": "8zMyI0goXNbs",
        "outputId": "850f23d5-097a-41c1-db3b-151de36bbe94"
      },
      "execution_count": 2,
      "outputs": [
        {
          "output_type": "stream",
          "name": "stdout",
          "text": [
            "Downloading data from https://storage.googleapis.com/tensorflow/keras-applications/mobilenet_v2/mobilenet_v2_weights_tf_dim_ordering_tf_kernels_1.0_224_no_top.h5\n",
            "\u001b[1m9406464/9406464\u001b[0m \u001b[32m━━━━━━━━━━━━━━━━━━━━\u001b[0m\u001b[37m\u001b[0m \u001b[1m2s\u001b[0m 0us/step\n"
          ]
        }
      ]
    },
    {
      "cell_type": "code",
      "source": [
        "# Add detection head (custom layers for bounding box regression and class prediction)\n",
        "x = base_model.output\n",
        "x = layers.GlobalAveragePooling2D()(x)\n",
        "x = layers.Dense(1024, activation='relu')(x)"
      ],
      "metadata": {
        "id": "8SC0cqTwXU66"
      },
      "execution_count": 3,
      "outputs": []
    },
    {
      "cell_type": "code",
      "source": [
        "# Output for bounding box (4 coordinates) and class prediction\n",
        "bounding_box_output = layers.Dense(4, name='bounding_box')(x)\n",
        "\n",
        "# Define num_classes\n",
        "num_classes = 10 # Example: Set to 10 for 10 classes - replace with your actual number of classes\n",
        "\n",
        "class_output = layers.Dense(num_classes, activation='softmax', name='class_label')(x)"
      ],
      "metadata": {
        "id": "TlonjrSdXYZk"
      },
      "execution_count": 5,
      "outputs": []
    },
    {
      "cell_type": "code",
      "source": [
        "model = models.Model(inputs=base_model.input, outputs=[bounding_box_output, class_output])"
      ],
      "metadata": {
        "id": "w4largi8XoQ1"
      },
      "execution_count": 6,
      "outputs": []
    },
    {
      "cell_type": "code",
      "source": [
        "# Compile and Train\n",
        "model.compile(optimizer='adam', loss={'bounding_box': 'mse', 'class_label': 'categorical_crossentropy'})"
      ],
      "metadata": {
        "id": "ZB1KceM6XqQe"
      },
      "execution_count": 7,
      "outputs": []
    }
  ]
}