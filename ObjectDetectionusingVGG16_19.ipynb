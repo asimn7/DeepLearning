{
  "nbformat": 4,
  "nbformat_minor": 0,
  "metadata": {
    "colab": {
      "provenance": [],
      "authorship_tag": "ABX9TyOPOuFFr1trOQ955AwYSfxX",
      "include_colab_link": true
    },
    "kernelspec": {
      "name": "python3",
      "display_name": "Python 3"
    },
    "language_info": {
      "name": "python"
    }
  },
  "cells": [
    {
      "cell_type": "markdown",
      "metadata": {
        "id": "view-in-github",
        "colab_type": "text"
      },
      "source": [
        "<a href=\"https://colab.research.google.com/github/asimn7/DeepLearning/blob/main/ObjectDetectionusingVGG16_19.ipynb\" target=\"_parent\"><img src=\"https://colab.research.google.com/assets/colab-badge.svg\" alt=\"Open In Colab\"/></a>"
      ]
    },
    {
      "cell_type": "code",
      "execution_count": 1,
      "metadata": {
        "id": "n_k1c2OgeknW"
      },
      "outputs": [],
      "source": [
        "from tensorflow.keras.applications import VGG16"
      ]
    },
    {
      "cell_type": "code",
      "source": [
        "# Load pre-trained VGG16\n",
        "base_model = VGG16(input_shape=(224, 224, 3), include_top=False, weights='imagenet')"
      ],
      "metadata": {
        "colab": {
          "base_uri": "https://localhost:8080/"
        },
        "id": "Lou-_iU6fPuJ",
        "outputId": "ab90e4c1-c9ac-4699-9e14-9e04983b3a3b"
      },
      "execution_count": 2,
      "outputs": [
        {
          "output_type": "stream",
          "name": "stdout",
          "text": [
            "Downloading data from https://storage.googleapis.com/tensorflow/keras-applications/vgg16/vgg16_weights_tf_dim_ordering_tf_kernels_notop.h5\n",
            "\u001b[1m58889256/58889256\u001b[0m \u001b[32m━━━━━━━━━━━━━━━━━━━━\u001b[0m\u001b[37m\u001b[0m \u001b[1m0s\u001b[0m 0us/step\n"
          ]
        }
      ]
    },
    {
      "cell_type": "code",
      "source": [
        "# Add detection head\n",
        "from tensorflow.keras import layers # Import the layers module from Keras\n",
        "x = base_model.output\n",
        "x = layers.Flatten()(x)\n",
        "x = layers.Dense(4096, activation='relu')(x)\n",
        "x = layers.Dense(4096, activation='relu')(x)"
      ],
      "metadata": {
        "id": "M70oBPL_fTSO"
      },
      "execution_count": 4,
      "outputs": []
    },
    {
      "cell_type": "code",
      "source": [
        "# Set the number of classes for your model\n",
        "num_classes = 10 # Example: set to 10 for 10 classes\n",
        "\n",
        "bounding_box_output = layers.Dense(4, name='bounding_box')(x)\n",
        "class_output = layers.Dense(num_classes, activation='softmax', name='class_label')(x)"
      ],
      "metadata": {
        "id": "3K-Dxoz6fklE"
      },
      "execution_count": 6,
      "outputs": []
    },
    {
      "cell_type": "code",
      "source": [
        "from tensorflow.keras import Model # Import the Model class from Keras\n",
        "\n",
        "model = Model(inputs=base_model.input, outputs=[bounding_box_output, class_output]) # Use the Model class to create your model"
      ],
      "metadata": {
        "id": "W0veuxe3f66I"
      },
      "execution_count": 8,
      "outputs": []
    },
    {
      "cell_type": "code",
      "source": [
        "# Compile and Train\n",
        "model.compile(optimizer='adam', loss={'bounding_box': 'mse', 'class_label': 'categorical_crossentropy'})\n"
      ],
      "metadata": {
        "id": "_hDu38AzgA1U"
      },
      "execution_count": 10,
      "outputs": []
    }
  ]
}